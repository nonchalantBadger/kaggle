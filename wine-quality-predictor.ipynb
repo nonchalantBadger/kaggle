{
 "cells": [
  {
   "cell_type": "markdown",
   "id": "bcc046f6",
   "metadata": {
    "papermill": {
     "duration": 0.013099,
     "end_time": "2022-09-27T06:29:16.455369",
     "exception": false,
     "start_time": "2022-09-27T06:29:16.442270",
     "status": "completed"
    },
    "tags": []
   },
   "source": [
    "# Wine Quality Predictor\n",
    "\n",
    "### Description\n",
    "The dataset provided contains 11 independant attributes and 1 dependant attribute called 'quality'. The objective of this notebook is to correctly identify the 'quality' of a wine based on the provided independent variables.\n",
    "\n",
    "### High Level Overview\n",
    "1. Data Exploration: Investigate the data to determine which features can be used to predict wine quality. I plotted each attribute against 'quality' to identify correlations. 5 attributes exhibited a positive or negative relationship with 'quality'.\n",
    "\n",
    "2. Data Segmentation: In the provided data set, 'quality' appears as a numeric value between 0-10. It would be very hard to predict quality across a range of 0-10. Instead, I converted this range into one of two values, good or bad.\n",
    "\n",
    "3. Data Normalisation: Normalised independent variables using Min Max normalisation. ML models perform poorly when numerical input data is across different scales. Performance of the model improved by about 5% after this step.\n",
    "\n",
    "4. Data Sampling: Split the data into training and test data sets.\n",
    "\n",
    "5. Logistical Regression Model: Built the logistical regression model.\n",
    "\n",
    "6. Bonus Round Hyper Parameter Tuning: Tested Hyper parameters to work out if the performance of the model can be improved. Regression models can benefit from tuning the 'C' parameter. In this case it didn't help.\n",
    "\n",
    "### Results\n",
    "\n",
    "This model is able to correctly identify the quality of a wine > 90% of the time by using a simple logistical regression.\n"
   ]
  },
  {
   "cell_type": "markdown",
   "id": "0fcc7b30",
   "metadata": {
    "papermill": {
     "duration": 0.010049,
     "end_time": "2022-09-27T06:29:16.476297",
     "exception": false,
     "start_time": "2022-09-27T06:29:16.466248",
     "status": "completed"
    },
    "tags": []
   },
   "source": [
    "# Import Packages"
   ]
  },
  {
   "cell_type": "code",
   "execution_count": 1,
   "id": "37a267c8",
   "metadata": {
    "_cell_guid": "b1076dfc-b9ad-4769-8c92-a6c4dae69d19",
    "_uuid": "8f2839f25d086af736a60e9eeb907d3b93b6e0e5",
    "execution": {
     "iopub.execute_input": "2022-09-27T06:29:16.500004Z",
     "iopub.status.busy": "2022-09-27T06:29:16.499246Z",
     "iopub.status.idle": "2022-09-27T06:29:16.523357Z",
     "shell.execute_reply": "2022-09-27T06:29:16.522437Z"
    },
    "papermill": {
     "duration": 0.040843,
     "end_time": "2022-09-27T06:29:16.527865",
     "exception": false,
     "start_time": "2022-09-27T06:29:16.487022",
     "status": "completed"
    },
    "tags": []
   },
   "outputs": [
    {
     "name": "stdout",
     "output_type": "stream",
     "text": [
      "/kaggle/input/red-wine-quality-cortez-et-al-2009/winequality-red.csv\n"
     ]
    }
   ],
   "source": [
    "# This Python 3 environment comes with many helpful analytics libraries installed\n",
    "# It is defined by the kaggle/python Docker image: https://github.com/kaggle/docker-python\n",
    "# For example, here's several helpful packages to load\n",
    "\n",
    "import numpy as np # linear algebra\n",
    "import pandas as pd # data processing, CSV file I/O (e.g. pd.read_csv)\n",
    "\n",
    "# Input data files are available in the read-only \"../input/\" directory\n",
    "# For example, running this (by clicking run or pressing Shift+Enter) will list all files under the input directory\n",
    "\n",
    "import os\n",
    "for dirname, _, filenames in os.walk('/kaggle/input'):\n",
    "    for filename in filenames:\n",
    "        print(os.path.join(dirname, filename))\n",
    "\n",
    "# You can write up to 20GB to the current directory (/kaggle/working/) that gets preserved as output when you create a version using \"Save & Run All\" \n",
    "# You can also write temporary files to /kaggle/temp/, but they won't be saved outside of the current session"
   ]
  },
  {
   "cell_type": "code",
   "execution_count": 2,
   "id": "6c115d85",
   "metadata": {
    "execution": {
     "iopub.execute_input": "2022-09-27T06:29:16.554354Z",
     "iopub.status.busy": "2022-09-27T06:29:16.553628Z",
     "iopub.status.idle": "2022-09-27T06:29:17.953277Z",
     "shell.execute_reply": "2022-09-27T06:29:17.952116Z"
    },
    "papermill": {
     "duration": 1.415018,
     "end_time": "2022-09-27T06:29:17.956431",
     "exception": false,
     "start_time": "2022-09-27T06:29:16.541413",
     "status": "completed"
    },
    "tags": []
   },
   "outputs": [],
   "source": [
    "# Data Binning\n",
    "from sklearn.preprocessing import StandardScaler, LabelEncoder\n",
    "\n",
    "from sklearn.ensemble import RandomForestClassifier\n",
    "\n",
    "#Data Normalisation\n",
    "from sklearn.preprocessing import MinMaxScaler\n",
    "\n",
    "#Hyper Parameter tuning\n",
    "from sklearn.model_selection import GridSearchCV\n",
    "\n",
    "import joblib"
   ]
  },
  {
   "cell_type": "markdown",
   "id": "de59115a",
   "metadata": {
    "papermill": {
     "duration": 0.010102,
     "end_time": "2022-09-27T06:29:17.977167",
     "exception": false,
     "start_time": "2022-09-27T06:29:17.967065",
     "status": "completed"
    },
    "tags": []
   },
   "source": [
    "# Import Data"
   ]
  },
  {
   "cell_type": "code",
   "execution_count": 3,
   "id": "87d29a26",
   "metadata": {
    "execution": {
     "iopub.execute_input": "2022-09-27T06:29:18.000047Z",
     "iopub.status.busy": "2022-09-27T06:29:17.999644Z",
     "iopub.status.idle": "2022-09-27T06:29:18.067229Z",
     "shell.execute_reply": "2022-09-27T06:29:18.065834Z"
    },
    "papermill": {
     "duration": 0.082244,
     "end_time": "2022-09-27T06:29:18.070211",
     "exception": false,
     "start_time": "2022-09-27T06:29:17.987967",
     "status": "completed"
    },
    "tags": []
   },
   "outputs": [
    {
     "data": {
      "text/html": [
       "<div>\n",
       "<style scoped>\n",
       "    .dataframe tbody tr th:only-of-type {\n",
       "        vertical-align: middle;\n",
       "    }\n",
       "\n",
       "    .dataframe tbody tr th {\n",
       "        vertical-align: top;\n",
       "    }\n",
       "\n",
       "    .dataframe thead th {\n",
       "        text-align: right;\n",
       "    }\n",
       "</style>\n",
       "<table border=\"1\" class=\"dataframe\">\n",
       "  <thead>\n",
       "    <tr style=\"text-align: right;\">\n",
       "      <th></th>\n",
       "      <th>fixed acidity</th>\n",
       "      <th>volatile acidity</th>\n",
       "      <th>citric acid</th>\n",
       "      <th>residual sugar</th>\n",
       "      <th>chlorides</th>\n",
       "      <th>free sulfur dioxide</th>\n",
       "      <th>total sulfur dioxide</th>\n",
       "      <th>density</th>\n",
       "      <th>pH</th>\n",
       "      <th>sulphates</th>\n",
       "      <th>alcohol</th>\n",
       "      <th>quality</th>\n",
       "    </tr>\n",
       "  </thead>\n",
       "  <tbody>\n",
       "    <tr>\n",
       "      <th>0</th>\n",
       "      <td>7.4</td>\n",
       "      <td>0.700</td>\n",
       "      <td>0.00</td>\n",
       "      <td>1.9</td>\n",
       "      <td>0.076</td>\n",
       "      <td>11.0</td>\n",
       "      <td>34.0</td>\n",
       "      <td>0.99780</td>\n",
       "      <td>3.51</td>\n",
       "      <td>0.56</td>\n",
       "      <td>9.4</td>\n",
       "      <td>5</td>\n",
       "    </tr>\n",
       "    <tr>\n",
       "      <th>1</th>\n",
       "      <td>7.8</td>\n",
       "      <td>0.880</td>\n",
       "      <td>0.00</td>\n",
       "      <td>2.6</td>\n",
       "      <td>0.098</td>\n",
       "      <td>25.0</td>\n",
       "      <td>67.0</td>\n",
       "      <td>0.99680</td>\n",
       "      <td>3.20</td>\n",
       "      <td>0.68</td>\n",
       "      <td>9.8</td>\n",
       "      <td>5</td>\n",
       "    </tr>\n",
       "    <tr>\n",
       "      <th>2</th>\n",
       "      <td>7.8</td>\n",
       "      <td>0.760</td>\n",
       "      <td>0.04</td>\n",
       "      <td>2.3</td>\n",
       "      <td>0.092</td>\n",
       "      <td>15.0</td>\n",
       "      <td>54.0</td>\n",
       "      <td>0.99700</td>\n",
       "      <td>3.26</td>\n",
       "      <td>0.65</td>\n",
       "      <td>9.8</td>\n",
       "      <td>5</td>\n",
       "    </tr>\n",
       "    <tr>\n",
       "      <th>3</th>\n",
       "      <td>11.2</td>\n",
       "      <td>0.280</td>\n",
       "      <td>0.56</td>\n",
       "      <td>1.9</td>\n",
       "      <td>0.075</td>\n",
       "      <td>17.0</td>\n",
       "      <td>60.0</td>\n",
       "      <td>0.99800</td>\n",
       "      <td>3.16</td>\n",
       "      <td>0.58</td>\n",
       "      <td>9.8</td>\n",
       "      <td>6</td>\n",
       "    </tr>\n",
       "    <tr>\n",
       "      <th>4</th>\n",
       "      <td>7.4</td>\n",
       "      <td>0.700</td>\n",
       "      <td>0.00</td>\n",
       "      <td>1.9</td>\n",
       "      <td>0.076</td>\n",
       "      <td>11.0</td>\n",
       "      <td>34.0</td>\n",
       "      <td>0.99780</td>\n",
       "      <td>3.51</td>\n",
       "      <td>0.56</td>\n",
       "      <td>9.4</td>\n",
       "      <td>5</td>\n",
       "    </tr>\n",
       "    <tr>\n",
       "      <th>...</th>\n",
       "      <td>...</td>\n",
       "      <td>...</td>\n",
       "      <td>...</td>\n",
       "      <td>...</td>\n",
       "      <td>...</td>\n",
       "      <td>...</td>\n",
       "      <td>...</td>\n",
       "      <td>...</td>\n",
       "      <td>...</td>\n",
       "      <td>...</td>\n",
       "      <td>...</td>\n",
       "      <td>...</td>\n",
       "    </tr>\n",
       "    <tr>\n",
       "      <th>1594</th>\n",
       "      <td>6.2</td>\n",
       "      <td>0.600</td>\n",
       "      <td>0.08</td>\n",
       "      <td>2.0</td>\n",
       "      <td>0.090</td>\n",
       "      <td>32.0</td>\n",
       "      <td>44.0</td>\n",
       "      <td>0.99490</td>\n",
       "      <td>3.45</td>\n",
       "      <td>0.58</td>\n",
       "      <td>10.5</td>\n",
       "      <td>5</td>\n",
       "    </tr>\n",
       "    <tr>\n",
       "      <th>1595</th>\n",
       "      <td>5.9</td>\n",
       "      <td>0.550</td>\n",
       "      <td>0.10</td>\n",
       "      <td>2.2</td>\n",
       "      <td>0.062</td>\n",
       "      <td>39.0</td>\n",
       "      <td>51.0</td>\n",
       "      <td>0.99512</td>\n",
       "      <td>3.52</td>\n",
       "      <td>0.76</td>\n",
       "      <td>11.2</td>\n",
       "      <td>6</td>\n",
       "    </tr>\n",
       "    <tr>\n",
       "      <th>1596</th>\n",
       "      <td>6.3</td>\n",
       "      <td>0.510</td>\n",
       "      <td>0.13</td>\n",
       "      <td>2.3</td>\n",
       "      <td>0.076</td>\n",
       "      <td>29.0</td>\n",
       "      <td>40.0</td>\n",
       "      <td>0.99574</td>\n",
       "      <td>3.42</td>\n",
       "      <td>0.75</td>\n",
       "      <td>11.0</td>\n",
       "      <td>6</td>\n",
       "    </tr>\n",
       "    <tr>\n",
       "      <th>1597</th>\n",
       "      <td>5.9</td>\n",
       "      <td>0.645</td>\n",
       "      <td>0.12</td>\n",
       "      <td>2.0</td>\n",
       "      <td>0.075</td>\n",
       "      <td>32.0</td>\n",
       "      <td>44.0</td>\n",
       "      <td>0.99547</td>\n",
       "      <td>3.57</td>\n",
       "      <td>0.71</td>\n",
       "      <td>10.2</td>\n",
       "      <td>5</td>\n",
       "    </tr>\n",
       "    <tr>\n",
       "      <th>1598</th>\n",
       "      <td>6.0</td>\n",
       "      <td>0.310</td>\n",
       "      <td>0.47</td>\n",
       "      <td>3.6</td>\n",
       "      <td>0.067</td>\n",
       "      <td>18.0</td>\n",
       "      <td>42.0</td>\n",
       "      <td>0.99549</td>\n",
       "      <td>3.39</td>\n",
       "      <td>0.66</td>\n",
       "      <td>11.0</td>\n",
       "      <td>6</td>\n",
       "    </tr>\n",
       "  </tbody>\n",
       "</table>\n",
       "<p>1599 rows × 12 columns</p>\n",
       "</div>"
      ],
      "text/plain": [
       "      fixed acidity  volatile acidity  citric acid  residual sugar  chlorides  \\\n",
       "0               7.4             0.700         0.00             1.9      0.076   \n",
       "1               7.8             0.880         0.00             2.6      0.098   \n",
       "2               7.8             0.760         0.04             2.3      0.092   \n",
       "3              11.2             0.280         0.56             1.9      0.075   \n",
       "4               7.4             0.700         0.00             1.9      0.076   \n",
       "...             ...               ...          ...             ...        ...   \n",
       "1594            6.2             0.600         0.08             2.0      0.090   \n",
       "1595            5.9             0.550         0.10             2.2      0.062   \n",
       "1596            6.3             0.510         0.13             2.3      0.076   \n",
       "1597            5.9             0.645         0.12             2.0      0.075   \n",
       "1598            6.0             0.310         0.47             3.6      0.067   \n",
       "\n",
       "      free sulfur dioxide  total sulfur dioxide  density    pH  sulphates  \\\n",
       "0                    11.0                  34.0  0.99780  3.51       0.56   \n",
       "1                    25.0                  67.0  0.99680  3.20       0.68   \n",
       "2                    15.0                  54.0  0.99700  3.26       0.65   \n",
       "3                    17.0                  60.0  0.99800  3.16       0.58   \n",
       "4                    11.0                  34.0  0.99780  3.51       0.56   \n",
       "...                   ...                   ...      ...   ...        ...   \n",
       "1594                 32.0                  44.0  0.99490  3.45       0.58   \n",
       "1595                 39.0                  51.0  0.99512  3.52       0.76   \n",
       "1596                 29.0                  40.0  0.99574  3.42       0.75   \n",
       "1597                 32.0                  44.0  0.99547  3.57       0.71   \n",
       "1598                 18.0                  42.0  0.99549  3.39       0.66   \n",
       "\n",
       "      alcohol  quality  \n",
       "0         9.4        5  \n",
       "1         9.8        5  \n",
       "2         9.8        5  \n",
       "3         9.8        6  \n",
       "4         9.4        5  \n",
       "...       ...      ...  \n",
       "1594     10.5        5  \n",
       "1595     11.2        6  \n",
       "1596     11.0        6  \n",
       "1597     10.2        5  \n",
       "1598     11.0        6  \n",
       "\n",
       "[1599 rows x 12 columns]"
      ]
     },
     "execution_count": 3,
     "metadata": {},
     "output_type": "execute_result"
    }
   ],
   "source": [
    "wine = pd.read_csv(\"/kaggle/input/red-wine-quality-cortez-et-al-2009/winequality-red.csv\")\n",
    "wine"
   ]
  },
  {
   "cell_type": "code",
   "execution_count": 4,
   "id": "f7182174",
   "metadata": {
    "execution": {
     "iopub.execute_input": "2022-09-27T06:29:18.093254Z",
     "iopub.status.busy": "2022-09-27T06:29:18.092849Z",
     "iopub.status.idle": "2022-09-27T06:29:18.152930Z",
     "shell.execute_reply": "2022-09-27T06:29:18.151657Z"
    },
    "papermill": {
     "duration": 0.075001,
     "end_time": "2022-09-27T06:29:18.155577",
     "exception": false,
     "start_time": "2022-09-27T06:29:18.080576",
     "status": "completed"
    },
    "tags": []
   },
   "outputs": [
    {
     "data": {
      "text/html": [
       "<div>\n",
       "<style scoped>\n",
       "    .dataframe tbody tr th:only-of-type {\n",
       "        vertical-align: middle;\n",
       "    }\n",
       "\n",
       "    .dataframe tbody tr th {\n",
       "        vertical-align: top;\n",
       "    }\n",
       "\n",
       "    .dataframe thead th {\n",
       "        text-align: right;\n",
       "    }\n",
       "</style>\n",
       "<table border=\"1\" class=\"dataframe\">\n",
       "  <thead>\n",
       "    <tr style=\"text-align: right;\">\n",
       "      <th></th>\n",
       "      <th>fixed acidity</th>\n",
       "      <th>volatile acidity</th>\n",
       "      <th>citric acid</th>\n",
       "      <th>residual sugar</th>\n",
       "      <th>chlorides</th>\n",
       "      <th>free sulfur dioxide</th>\n",
       "      <th>total sulfur dioxide</th>\n",
       "      <th>density</th>\n",
       "      <th>pH</th>\n",
       "      <th>sulphates</th>\n",
       "      <th>alcohol</th>\n",
       "      <th>quality</th>\n",
       "    </tr>\n",
       "  </thead>\n",
       "  <tbody>\n",
       "    <tr>\n",
       "      <th>count</th>\n",
       "      <td>1599.000000</td>\n",
       "      <td>1599.000000</td>\n",
       "      <td>1599.000000</td>\n",
       "      <td>1599.000000</td>\n",
       "      <td>1599.000000</td>\n",
       "      <td>1599.000000</td>\n",
       "      <td>1599.000000</td>\n",
       "      <td>1599.000000</td>\n",
       "      <td>1599.000000</td>\n",
       "      <td>1599.000000</td>\n",
       "      <td>1599.000000</td>\n",
       "      <td>1599.000000</td>\n",
       "    </tr>\n",
       "    <tr>\n",
       "      <th>mean</th>\n",
       "      <td>8.319637</td>\n",
       "      <td>0.527821</td>\n",
       "      <td>0.270976</td>\n",
       "      <td>2.538806</td>\n",
       "      <td>0.087467</td>\n",
       "      <td>15.874922</td>\n",
       "      <td>46.467792</td>\n",
       "      <td>0.996747</td>\n",
       "      <td>3.311113</td>\n",
       "      <td>0.658149</td>\n",
       "      <td>10.422983</td>\n",
       "      <td>5.636023</td>\n",
       "    </tr>\n",
       "    <tr>\n",
       "      <th>std</th>\n",
       "      <td>1.741096</td>\n",
       "      <td>0.179060</td>\n",
       "      <td>0.194801</td>\n",
       "      <td>1.409928</td>\n",
       "      <td>0.047065</td>\n",
       "      <td>10.460157</td>\n",
       "      <td>32.895324</td>\n",
       "      <td>0.001887</td>\n",
       "      <td>0.154386</td>\n",
       "      <td>0.169507</td>\n",
       "      <td>1.065668</td>\n",
       "      <td>0.807569</td>\n",
       "    </tr>\n",
       "    <tr>\n",
       "      <th>min</th>\n",
       "      <td>4.600000</td>\n",
       "      <td>0.120000</td>\n",
       "      <td>0.000000</td>\n",
       "      <td>0.900000</td>\n",
       "      <td>0.012000</td>\n",
       "      <td>1.000000</td>\n",
       "      <td>6.000000</td>\n",
       "      <td>0.990070</td>\n",
       "      <td>2.740000</td>\n",
       "      <td>0.330000</td>\n",
       "      <td>8.400000</td>\n",
       "      <td>3.000000</td>\n",
       "    </tr>\n",
       "    <tr>\n",
       "      <th>25%</th>\n",
       "      <td>7.100000</td>\n",
       "      <td>0.390000</td>\n",
       "      <td>0.090000</td>\n",
       "      <td>1.900000</td>\n",
       "      <td>0.070000</td>\n",
       "      <td>7.000000</td>\n",
       "      <td>22.000000</td>\n",
       "      <td>0.995600</td>\n",
       "      <td>3.210000</td>\n",
       "      <td>0.550000</td>\n",
       "      <td>9.500000</td>\n",
       "      <td>5.000000</td>\n",
       "    </tr>\n",
       "    <tr>\n",
       "      <th>50%</th>\n",
       "      <td>7.900000</td>\n",
       "      <td>0.520000</td>\n",
       "      <td>0.260000</td>\n",
       "      <td>2.200000</td>\n",
       "      <td>0.079000</td>\n",
       "      <td>14.000000</td>\n",
       "      <td>38.000000</td>\n",
       "      <td>0.996750</td>\n",
       "      <td>3.310000</td>\n",
       "      <td>0.620000</td>\n",
       "      <td>10.200000</td>\n",
       "      <td>6.000000</td>\n",
       "    </tr>\n",
       "    <tr>\n",
       "      <th>75%</th>\n",
       "      <td>9.200000</td>\n",
       "      <td>0.640000</td>\n",
       "      <td>0.420000</td>\n",
       "      <td>2.600000</td>\n",
       "      <td>0.090000</td>\n",
       "      <td>21.000000</td>\n",
       "      <td>62.000000</td>\n",
       "      <td>0.997835</td>\n",
       "      <td>3.400000</td>\n",
       "      <td>0.730000</td>\n",
       "      <td>11.100000</td>\n",
       "      <td>6.000000</td>\n",
       "    </tr>\n",
       "    <tr>\n",
       "      <th>max</th>\n",
       "      <td>15.900000</td>\n",
       "      <td>1.580000</td>\n",
       "      <td>1.000000</td>\n",
       "      <td>15.500000</td>\n",
       "      <td>0.611000</td>\n",
       "      <td>72.000000</td>\n",
       "      <td>289.000000</td>\n",
       "      <td>1.003690</td>\n",
       "      <td>4.010000</td>\n",
       "      <td>2.000000</td>\n",
       "      <td>14.900000</td>\n",
       "      <td>8.000000</td>\n",
       "    </tr>\n",
       "  </tbody>\n",
       "</table>\n",
       "</div>"
      ],
      "text/plain": [
       "       fixed acidity  volatile acidity  citric acid  residual sugar  \\\n",
       "count    1599.000000       1599.000000  1599.000000     1599.000000   \n",
       "mean        8.319637          0.527821     0.270976        2.538806   \n",
       "std         1.741096          0.179060     0.194801        1.409928   \n",
       "min         4.600000          0.120000     0.000000        0.900000   \n",
       "25%         7.100000          0.390000     0.090000        1.900000   \n",
       "50%         7.900000          0.520000     0.260000        2.200000   \n",
       "75%         9.200000          0.640000     0.420000        2.600000   \n",
       "max        15.900000          1.580000     1.000000       15.500000   \n",
       "\n",
       "         chlorides  free sulfur dioxide  total sulfur dioxide      density  \\\n",
       "count  1599.000000          1599.000000           1599.000000  1599.000000   \n",
       "mean      0.087467            15.874922             46.467792     0.996747   \n",
       "std       0.047065            10.460157             32.895324     0.001887   \n",
       "min       0.012000             1.000000              6.000000     0.990070   \n",
       "25%       0.070000             7.000000             22.000000     0.995600   \n",
       "50%       0.079000            14.000000             38.000000     0.996750   \n",
       "75%       0.090000            21.000000             62.000000     0.997835   \n",
       "max       0.611000            72.000000            289.000000     1.003690   \n",
       "\n",
       "                pH    sulphates      alcohol      quality  \n",
       "count  1599.000000  1599.000000  1599.000000  1599.000000  \n",
       "mean      3.311113     0.658149    10.422983     5.636023  \n",
       "std       0.154386     0.169507     1.065668     0.807569  \n",
       "min       2.740000     0.330000     8.400000     3.000000  \n",
       "25%       3.210000     0.550000     9.500000     5.000000  \n",
       "50%       3.310000     0.620000    10.200000     6.000000  \n",
       "75%       3.400000     0.730000    11.100000     6.000000  \n",
       "max       4.010000     2.000000    14.900000     8.000000  "
      ]
     },
     "execution_count": 4,
     "metadata": {},
     "output_type": "execute_result"
    }
   ],
   "source": [
    "wine.describe()"
   ]
  },
  {
   "cell_type": "markdown",
   "id": "c8324f59",
   "metadata": {
    "papermill": {
     "duration": 0.010895,
     "end_time": "2022-09-27T06:29:18.177653",
     "exception": false,
     "start_time": "2022-09-27T06:29:18.166758",
     "status": "completed"
    },
    "tags": []
   },
   "source": [
    "# Data Exploration\n",
    "\n",
    "Profile each attribute to determine if the attribute has an impact on wine quality"
   ]
  },
  {
   "cell_type": "code",
   "execution_count": 5,
   "id": "d6148892",
   "metadata": {
    "execution": {
     "iopub.execute_input": "2022-09-27T06:29:18.201778Z",
     "iopub.status.busy": "2022-09-27T06:29:18.201334Z",
     "iopub.status.idle": "2022-09-27T06:29:18.464828Z",
     "shell.execute_reply": "2022-09-27T06:29:18.463624Z"
    },
    "papermill": {
     "duration": 0.279033,
     "end_time": "2022-09-27T06:29:18.467566",
     "exception": false,
     "start_time": "2022-09-27T06:29:18.188533",
     "status": "completed"
    },
    "tags": []
   },
   "outputs": [
    {
     "data": {
      "text/plain": [
       "<AxesSubplot:xlabel='quality'>"
      ]
     },
     "execution_count": 5,
     "metadata": {},
     "output_type": "execute_result"
    },
    {
     "data": {
      "image/png": "[encoded data removed]",
      "text/plain": [
       "<Figure size 720x432 with 1 Axes>"
      ]
     },
     "metadata": {
      "needs_background": "light"
     },
     "output_type": "display_data"
    }
   ],
   "source": [
    "# no real correlation can be observed\n",
    "wine.groupby('quality')['fixed acidity'] \\\n",
    "    .mean() \\\n",
    "    .plot(kind = 'bar',x = 'quality',y = 'fixed acidity',figsize = (10,6))"
   ]
  },
  {
   "cell_type": "code",
   "execution_count": 6,
   "id": "f3799deb",
   "metadata": {
    "execution": {
     "iopub.execute_input": "2022-09-27T06:29:18.491697Z",
     "iopub.status.busy": "2022-09-27T06:29:18.491293Z",
     "iopub.status.idle": "2022-09-27T06:29:18.706755Z",
     "shell.execute_reply": "2022-09-27T06:29:18.705662Z"
    },
    "papermill": {
     "duration": 0.230555,
     "end_time": "2022-09-27T06:29:18.709283",
     "exception": false,
     "start_time": "2022-09-27T06:29:18.478728",
     "status": "completed"
    },
    "tags": []
   },
   "outputs": [
    {
     "data": {
      "text/plain": [
       "<AxesSubplot:xlabel='quality'>"
      ]
     },
     "execution_count": 6,
     "metadata": {},
     "output_type": "execute_result"
    },
    {
     "data": {
      "image/png": "[encoded data removed]",
      "text/plain": [
       "<Figure size 720x432 with 1 Axes>"
      ]
     },
     "metadata": {
      "needs_background": "light"
     },
     "output_type": "display_data"
    }
   ],
   "source": [
    "# negative between volatile acidity and quality\n",
    "wine.groupby('quality')['volatile acidity'] \\\n",
    "    .mean() \\\n",
    "    .plot(kind = 'bar',x = 'quality',y = 'volatile acidity',figsize = (10,6))"
   ]
  },
  {
   "cell_type": "code",
   "execution_count": 7,
   "id": "c312a377",
   "metadata": {
    "execution": {
     "iopub.execute_input": "2022-09-27T06:29:18.734782Z",
     "iopub.status.busy": "2022-09-27T06:29:18.734336Z",
     "iopub.status.idle": "2022-09-27T06:29:18.969787Z",
     "shell.execute_reply": "2022-09-27T06:29:18.968593Z"
    },
    "papermill": {
     "duration": 0.251477,
     "end_time": "2022-09-27T06:29:18.972389",
     "exception": false,
     "start_time": "2022-09-27T06:29:18.720912",
     "status": "completed"
    },
    "tags": []
   },
   "outputs": [
    {
     "data": {
      "text/plain": [
       "<AxesSubplot:xlabel='quality'>"
      ]
     },
     "execution_count": 7,
     "metadata": {},
     "output_type": "execute_result"
    },
    {
     "data": {
      "image/png": "[encoded data removed]",
      "text/plain": [
       "<Figure size 720x432 with 1 Axes>"
      ]
     },
     "metadata": {
      "needs_background": "light"
     },
     "output_type": "display_data"
    }
   ],
   "source": [
    "# Strong positive relationship between citric acid and quality\n",
    "wine.groupby('quality')['citric acid'] \\\n",
    "    .mean() \\\n",
    "    .plot(kind = 'bar',x = 'quality',y = 'citric acid',figsize = (10,6))"
   ]
  },
  {
   "cell_type": "code",
   "execution_count": 8,
   "id": "9a34b2e8",
   "metadata": {
    "execution": {
     "iopub.execute_input": "2022-09-27T06:29:18.998336Z",
     "iopub.status.busy": "2022-09-27T06:29:18.997906Z",
     "iopub.status.idle": "2022-09-27T06:29:19.216924Z",
     "shell.execute_reply": "2022-09-27T06:29:19.215759Z"
    },
    "papermill": {
     "duration": 0.234839,
     "end_time": "2022-09-27T06:29:19.219430",
     "exception": false,
     "start_time": "2022-09-27T06:29:18.984591",
     "status": "completed"
    },
    "tags": []
   },
   "outputs": [
    {
     "data": {
      "text/plain": [
       "<AxesSubplot:xlabel='quality'>"
      ]
     },
     "execution_count": 8,
     "metadata": {},
     "output_type": "execute_result"
    },
    {
     "data": {
      "image/png": "[encoded data removed]",
      "text/plain": [
       "<Figure size 720x432 with 1 Axes>"
      ]
     },
     "metadata": {
      "needs_background": "light"
     },
     "output_type": "display_data"
    }
   ],
   "source": [
    "# no correlation\n",
    "wine.groupby('quality')['residual sugar'] \\\n",
    "    .mean() \\\n",
    "    .plot(kind = 'bar',x = 'quality',y = 'residual sugar',figsize = (10,6))"
   ]
  },
  {
   "cell_type": "code",
   "execution_count": 9,
   "id": "56055673",
   "metadata": {
    "execution": {
     "iopub.execute_input": "2022-09-27T06:29:19.245149Z",
     "iopub.status.busy": "2022-09-27T06:29:19.244766Z",
     "iopub.status.idle": "2022-09-27T06:29:19.470855Z",
     "shell.execute_reply": "2022-09-27T06:29:19.468854Z"
    },
    "papermill": {
     "duration": 0.24177,
     "end_time": "2022-09-27T06:29:19.473462",
     "exception": false,
     "start_time": "2022-09-27T06:29:19.231692",
     "status": "completed"
    },
    "tags": []
   },
   "outputs": [
    {
     "data": {
      "text/plain": [
       "<AxesSubplot:xlabel='quality'>"
      ]
     },
     "execution_count": 9,
     "metadata": {},
     "output_type": "execute_result"
    },
    {
     "data": {
      "image/png": "[encoded data removed]",
      "text/plain": [
       "<Figure size 720x432 with 1 Axes>"
      ]
     },
     "metadata": {
      "needs_background": "light"
     },
     "output_type": "display_data"
    }
   ],
   "source": [
    "# negative correlation between chlorides and quality\n",
    "wine.groupby('quality')['chlorides'] \\\n",
    "    .mean() \\\n",
    "    .plot(kind = 'bar',x = 'quality',y = 'chlorides',figsize = (10,6))"
   ]
  },
  {
   "cell_type": "code",
   "execution_count": 10,
   "id": "2b7c8f1f",
   "metadata": {
    "execution": {
     "iopub.execute_input": "2022-09-27T06:29:19.500141Z",
     "iopub.status.busy": "2022-09-27T06:29:19.499727Z",
     "iopub.status.idle": "2022-09-27T06:29:19.719581Z",
     "shell.execute_reply": "2022-09-27T06:29:19.718330Z"
    },
    "papermill": {
     "duration": 0.236195,
     "end_time": "2022-09-27T06:29:19.722077",
     "exception": false,
     "start_time": "2022-09-27T06:29:19.485882",
     "status": "completed"
    },
    "tags": []
   },
   "outputs": [
    {
     "data": {
      "text/plain": [
       "<AxesSubplot:xlabel='quality'>"
      ]
     },
     "execution_count": 10,
     "metadata": {},
     "output_type": "execute_result"
    },
    {
     "data": {
      "image/png": "[encoded data removed]",
      "text/plain": [
       "<Figure size 720x432 with 1 Axes>"
      ]
     },
     "metadata": {
      "needs_background": "light"
     },
     "output_type": "display_data"
    }
   ],
   "source": [
    "# no correlation\n",
    "wine.groupby('quality')['density'] \\\n",
    "    .mean() \\\n",
    "    .plot(kind = 'bar',x = 'quality',y = 'density',figsize = (10,6))"
   ]
  },
  {
   "cell_type": "code",
   "execution_count": 11,
   "id": "3161e090",
   "metadata": {
    "execution": {
     "iopub.execute_input": "2022-09-27T06:29:19.749001Z",
     "iopub.status.busy": "2022-09-27T06:29:19.748552Z",
     "iopub.status.idle": "2022-09-27T06:29:19.965400Z",
     "shell.execute_reply": "2022-09-27T06:29:19.964227Z"
    },
    "papermill": {
     "duration": 0.233373,
     "end_time": "2022-09-27T06:29:19.968057",
     "exception": false,
     "start_time": "2022-09-27T06:29:19.734684",
     "status": "completed"
    },
    "tags": []
   },
   "outputs": [
    {
     "data": {
      "text/plain": [
       "<AxesSubplot:xlabel='quality'>"
      ]
     },
     "execution_count": 11,
     "metadata": {},
     "output_type": "execute_result"
    },
    {
     "data": {
      "image/png": "[encoded data removed]",
      "text/plain": [
       "<Figure size 720x432 with 1 Axes>"
      ]
     },
     "metadata": {
      "needs_background": "light"
     },
     "output_type": "display_data"
    }
   ],
   "source": [
    "# no correlation\n",
    "wine.groupby('quality')['total sulfur dioxide'] \\\n",
    "    .mean() \\\n",
    "    .plot(kind = 'bar',x = 'quality',y = 'total sulfur dioxide',figsize = (10,6))"
   ]
  },
  {
   "cell_type": "code",
   "execution_count": 12,
   "id": "40348e81",
   "metadata": {
    "execution": {
     "iopub.execute_input": "2022-09-27T06:29:19.995480Z",
     "iopub.status.busy": "2022-09-27T06:29:19.995085Z",
     "iopub.status.idle": "2022-09-27T06:29:20.224493Z",
     "shell.execute_reply": "2022-09-27T06:29:20.223630Z"
    },
    "papermill": {
     "duration": 0.245959,
     "end_time": "2022-09-27T06:29:20.226814",
     "exception": false,
     "start_time": "2022-09-27T06:29:19.980855",
     "status": "completed"
    },
    "tags": []
   },
   "outputs": [
    {
     "data": {
      "text/plain": [
       "<AxesSubplot:xlabel='quality'>"
      ]
     },
     "execution_count": 12,
     "metadata": {},
     "output_type": "execute_result"
    },
    {
     "data": {
      "image/png": "[encoded data removed]",
      "text/plain": [
       "<Figure size 720x432 with 1 Axes>"
      ]
     },
     "metadata": {
      "needs_background": "light"
     },
     "output_type": "display_data"
    }
   ],
   "source": [
    "# positive correlation\n",
    "wine.groupby('quality')['sulphates'] \\\n",
    "    .mean() \\\n",
    "    .plot(kind = 'bar',x = 'quality',y = 'sulphates',figsize = (10,6))"
   ]
  },
  {
   "cell_type": "code",
   "execution_count": 13,
   "id": "2cb84f2b",
   "metadata": {
    "execution": {
     "iopub.execute_input": "2022-09-27T06:29:20.255650Z",
     "iopub.status.busy": "2022-09-27T06:29:20.254946Z",
     "iopub.status.idle": "2022-09-27T06:29:20.480261Z",
     "shell.execute_reply": "2022-09-27T06:29:20.478906Z"
    },
    "papermill": {
     "duration": 0.24267,
     "end_time": "2022-09-27T06:29:20.482815",
     "exception": false,
     "start_time": "2022-09-27T06:29:20.240145",
     "status": "completed"
    },
    "tags": []
   },
   "outputs": [
    {
     "data": {
      "text/plain": [
       "<AxesSubplot:xlabel='quality'>"
      ]
     },
     "execution_count": 13,
     "metadata": {},
     "output_type": "execute_result"
    },
    {
     "data": {
      "image/png": "[encoded data removed]",
      "text/plain": [
       "<Figure size 720x432 with 1 Axes>"
      ]
     },
     "metadata": {
      "needs_background": "light"
     },
     "output_type": "display_data"
    }
   ],
   "source": [
    "# No correation\n",
    "wine.groupby('quality')['pH'] \\\n",
    "    .mean() \\\n",
    "    .plot(kind = 'bar',x = 'quality',y = 'pH',figsize = (10,6))"
   ]
  },
  {
   "cell_type": "code",
   "execution_count": 14,
   "id": "63264641",
   "metadata": {
    "execution": {
     "iopub.execute_input": "2022-09-27T06:29:20.511722Z",
     "iopub.status.busy": "2022-09-27T06:29:20.511264Z",
     "iopub.status.idle": "2022-09-27T06:29:20.734067Z",
     "shell.execute_reply": "2022-09-27T06:29:20.732704Z"
    },
    "papermill": {
     "duration": 0.240306,
     "end_time": "2022-09-27T06:29:20.736702",
     "exception": false,
     "start_time": "2022-09-27T06:29:20.496396",
     "status": "completed"
    },
    "tags": []
   },
   "outputs": [
    {
     "data": {
      "text/plain": [
       "<AxesSubplot:xlabel='quality'>"
      ]
     },
     "execution_count": 14,
     "metadata": {},
     "output_type": "execute_result"
    },
    {
     "data": {
      "image/png": "[encoded data removed]",
      "text/plain": [
       "<Figure size 720x432 with 1 Axes>"
      ]
     },
     "metadata": {
      "needs_background": "light"
     },
     "output_type": "display_data"
    }
   ],
   "source": [
    "# positive correlation\n",
    "wine.groupby('quality')['alcohol'] \\\n",
    "    .mean() \\\n",
    "    .plot(kind = 'bar',x = 'quality',y = 'alcohol',figsize = (10,6))"
   ]
  },
  {
   "cell_type": "markdown",
   "id": "e890f834",
   "metadata": {
    "papermill": {
     "duration": 0.013583,
     "end_time": "2022-09-27T06:29:20.764495",
     "exception": false,
     "start_time": "2022-09-27T06:29:20.750912",
     "status": "completed"
    },
    "tags": []
   },
   "source": [
    "# Data Exploration Outcomes\n",
    "\n",
    "Based on the results which were returned the following attributes demonstrated a correlation with quality.\n",
    "\n",
    "* volatile acidity\n",
    "* citric acid\n",
    "* chlorides\n",
    "* sulphates\n",
    "* alcohol"
   ]
  },
  {
   "cell_type": "markdown",
   "id": "1d339e00",
   "metadata": {
    "papermill": {
     "duration": 0.013513,
     "end_time": "2022-09-27T06:29:20.791971",
     "exception": false,
     "start_time": "2022-09-27T06:29:20.778458",
     "status": "completed"
    },
    "tags": []
   },
   "source": [
    "# Feature Engineering\n",
    "\n",
    "1. We need to convert the quality value into a categorical value\n",
    "2. Normalise the selected attributes"
   ]
  },
  {
   "cell_type": "code",
   "execution_count": 15,
   "id": "57aa55d0",
   "metadata": {
    "execution": {
     "iopub.execute_input": "2022-09-27T06:29:20.822048Z",
     "iopub.status.busy": "2022-09-27T06:29:20.820718Z",
     "iopub.status.idle": "2022-09-27T06:29:20.830804Z",
     "shell.execute_reply": "2022-09-27T06:29:20.829843Z"
    },
    "papermill": {
     "duration": 0.027495,
     "end_time": "2022-09-27T06:29:20.833311",
     "exception": false,
     "start_time": "2022-09-27T06:29:20.805816",
     "status": "completed"
    },
    "tags": []
   },
   "outputs": [],
   "source": [
    "\n",
    "# convert continuos quality into categorical data\n",
    "bins = (2, 6.5, 8)\n",
    "group_names = [0,1]\n",
    "wine['quality'] = pd.cut(wine['quality'],bins = bins, labels = group_names)\n"
   ]
  },
  {
   "cell_type": "code",
   "execution_count": 16,
   "id": "e958896b",
   "metadata": {
    "execution": {
     "iopub.execute_input": "2022-09-27T06:29:20.863314Z",
     "iopub.status.busy": "2022-09-27T06:29:20.862308Z",
     "iopub.status.idle": "2022-09-27T06:29:20.867861Z",
     "shell.execute_reply": "2022-09-27T06:29:20.866819Z"
    },
    "papermill": {
     "duration": 0.023155,
     "end_time": "2022-09-27T06:29:20.870225",
     "exception": false,
     "start_time": "2022-09-27T06:29:20.847070",
     "status": "completed"
    },
    "tags": []
   },
   "outputs": [],
   "source": [
    "#label_quality = LabelEncoder()\n",
    "#label_quality"
   ]
  },
  {
   "cell_type": "code",
   "execution_count": 17,
   "id": "ed1db20e",
   "metadata": {
    "execution": {
     "iopub.execute_input": "2022-09-27T06:29:20.900426Z",
     "iopub.status.busy": "2022-09-27T06:29:20.899507Z",
     "iopub.status.idle": "2022-09-27T06:29:20.905191Z",
     "shell.execute_reply": "2022-09-27T06:29:20.903905Z"
    },
    "papermill": {
     "duration": 0.023602,
     "end_time": "2022-09-27T06:29:20.907677",
     "exception": false,
     "start_time": "2022-09-27T06:29:20.884075",
     "status": "completed"
    },
    "tags": []
   },
   "outputs": [],
   "source": [
    "#wine['quality'] = label_quality.fit_transform(wine['quality'])\n"
   ]
  },
  {
   "cell_type": "code",
   "execution_count": 18,
   "id": "82efcda7",
   "metadata": {
    "execution": {
     "iopub.execute_input": "2022-09-27T06:29:20.937349Z",
     "iopub.status.busy": "2022-09-27T06:29:20.936960Z",
     "iopub.status.idle": "2022-09-27T06:29:20.947864Z",
     "shell.execute_reply": "2022-09-27T06:29:20.946946Z"
    },
    "papermill": {
     "duration": 0.028582,
     "end_time": "2022-09-27T06:29:20.950133",
     "exception": false,
     "start_time": "2022-09-27T06:29:20.921551",
     "status": "completed"
    },
    "tags": []
   },
   "outputs": [
    {
     "data": {
      "text/plain": [
       "count    1599.000000\n",
       "mean        0.527821\n",
       "std         0.179060\n",
       "min         0.120000\n",
       "25%         0.390000\n",
       "50%         0.520000\n",
       "75%         0.640000\n",
       "max         1.580000\n",
       "Name: volatile acidity, dtype: float64"
      ]
     },
     "execution_count": 18,
     "metadata": {},
     "output_type": "execute_result"
    }
   ],
   "source": [
    "wine['volatile acidity'].describe()"
   ]
  },
  {
   "cell_type": "code",
   "execution_count": 19,
   "id": "01b5f629",
   "metadata": {
    "execution": {
     "iopub.execute_input": "2022-09-27T06:29:20.980971Z",
     "iopub.status.busy": "2022-09-27T06:29:20.980115Z",
     "iopub.status.idle": "2022-09-27T06:29:21.001593Z",
     "shell.execute_reply": "2022-09-27T06:29:21.000369Z"
    },
    "papermill": {
     "duration": 0.040779,
     "end_time": "2022-09-27T06:29:21.005221",
     "exception": false,
     "start_time": "2022-09-27T06:29:20.964442",
     "status": "completed"
    },
    "tags": []
   },
   "outputs": [],
   "source": [
    "# List Attributes which are being kept\n",
    "keep_variables = ['volatile acidity','citric acid','chlorides','sulphates','alcohol']\n",
    "\n",
    "# Loop through the attributes being kept and normalise them\n",
    "for i in keep_variables:\n",
    "    wine[i] = MinMaxScaler().fit_transform(wine[[i]])"
   ]
  },
  {
   "cell_type": "markdown",
   "id": "0665320d",
   "metadata": {
    "papermill": {
     "duration": 0.013872,
     "end_time": "2022-09-27T06:29:21.033214",
     "exception": false,
     "start_time": "2022-09-27T06:29:21.019342",
     "status": "completed"
    },
    "tags": []
   },
   "source": [
    "# Extract Features\n",
    "\n",
    "Extract the dependant and independant variables"
   ]
  },
  {
   "cell_type": "code",
   "execution_count": 20,
   "id": "65f64163",
   "metadata": {
    "execution": {
     "iopub.execute_input": "2022-09-27T06:29:21.063438Z",
     "iopub.status.busy": "2022-09-27T06:29:21.062766Z",
     "iopub.status.idle": "2022-09-27T06:29:21.068591Z",
     "shell.execute_reply": "2022-09-27T06:29:21.067700Z"
    },
    "papermill": {
     "duration": 0.023587,
     "end_time": "2022-09-27T06:29:21.071060",
     "exception": false,
     "start_time": "2022-09-27T06:29:21.047473",
     "status": "completed"
    },
    "tags": []
   },
   "outputs": [],
   "source": [
    "# Get the dependant variable\n",
    "response = 'quality'\n",
    "y = wine[[response]]"
   ]
  },
  {
   "cell_type": "code",
   "execution_count": 21,
   "id": "a181f858",
   "metadata": {
    "execution": {
     "iopub.execute_input": "2022-09-27T06:29:21.102383Z",
     "iopub.status.busy": "2022-09-27T06:29:21.101785Z",
     "iopub.status.idle": "2022-09-27T06:29:21.107973Z",
     "shell.execute_reply": "2022-09-27T06:29:21.106998Z"
    },
    "papermill": {
     "duration": 0.025239,
     "end_time": "2022-09-27T06:29:21.110398",
     "exception": false,
     "start_time": "2022-09-27T06:29:21.085159",
     "status": "completed"
    },
    "tags": []
   },
   "outputs": [],
   "source": [
    "# If the attribute is in the list of attributes we want to keep then persist it into the new_predictors list\n",
    "predictors = list(wine.columns)\n",
    "new_predictors = []\n",
    "\n",
    "for i in range(len(predictors)):\n",
    "    if predictors[i] in keep_variables:\n",
    "        new_predictors.append(predictors[i])\n",
    "        \n",
    "# Save as x\n",
    "x = wine[new_predictors]"
   ]
  },
  {
   "cell_type": "markdown",
   "id": "8f273f10",
   "metadata": {
    "papermill": {
     "duration": 0.013643,
     "end_time": "2022-09-27T06:29:21.138135",
     "exception": false,
     "start_time": "2022-09-27T06:29:21.124492",
     "status": "completed"
    },
    "tags": []
   },
   "source": [
    "# Build Machine Learning Model"
   ]
  },
  {
   "cell_type": "code",
   "execution_count": 22,
   "id": "d9358a6e",
   "metadata": {
    "execution": {
     "iopub.execute_input": "2022-09-27T06:29:21.168619Z",
     "iopub.status.busy": "2022-09-27T06:29:21.167573Z",
     "iopub.status.idle": "2022-09-27T06:29:21.172845Z",
     "shell.execute_reply": "2022-09-27T06:29:21.171902Z"
    },
    "papermill": {
     "duration": 0.022825,
     "end_time": "2022-09-27T06:29:21.175092",
     "exception": false,
     "start_time": "2022-09-27T06:29:21.152267",
     "status": "completed"
    },
    "tags": []
   },
   "outputs": [],
   "source": [
    "from sklearn.model_selection import train_test_split\n",
    "from sklearn.metrics import classification_report"
   ]
  },
  {
   "cell_type": "code",
   "execution_count": 23,
   "id": "9f86fe5f",
   "metadata": {
    "execution": {
     "iopub.execute_input": "2022-09-27T06:29:21.206281Z",
     "iopub.status.busy": "2022-09-27T06:29:21.204193Z",
     "iopub.status.idle": "2022-09-27T06:29:21.211975Z",
     "shell.execute_reply": "2022-09-27T06:29:21.211013Z"
    },
    "papermill": {
     "duration": 0.025142,
     "end_time": "2022-09-27T06:29:21.214186",
     "exception": false,
     "start_time": "2022-09-27T06:29:21.189044",
     "status": "completed"
    },
    "tags": []
   },
   "outputs": [],
   "source": [
    "x_train,x_test,y_train,y_test = train_test_split(x,y)"
   ]
  },
  {
   "cell_type": "code",
   "execution_count": 24,
   "id": "a17c6f80",
   "metadata": {
    "execution": {
     "iopub.execute_input": "2022-09-27T06:29:21.244094Z",
     "iopub.status.busy": "2022-09-27T06:29:21.243487Z",
     "iopub.status.idle": "2022-09-27T06:29:21.247880Z",
     "shell.execute_reply": "2022-09-27T06:29:21.246901Z"
    },
    "papermill": {
     "duration": 0.021824,
     "end_time": "2022-09-27T06:29:21.250023",
     "exception": false,
     "start_time": "2022-09-27T06:29:21.228199",
     "status": "completed"
    },
    "tags": []
   },
   "outputs": [],
   "source": [
    "from sklearn.linear_model import LogisticRegression"
   ]
  },
  {
   "cell_type": "code",
   "execution_count": 25,
   "id": "07b6ce7d",
   "metadata": {
    "execution": {
     "iopub.execute_input": "2022-09-27T06:29:21.280363Z",
     "iopub.status.busy": "2022-09-27T06:29:21.279778Z",
     "iopub.status.idle": "2022-09-27T06:29:21.283961Z",
     "shell.execute_reply": "2022-09-27T06:29:21.282952Z"
    },
    "papermill": {
     "duration": 0.022009,
     "end_time": "2022-09-27T06:29:21.286218",
     "exception": false,
     "start_time": "2022-09-27T06:29:21.264209",
     "status": "completed"
    },
    "tags": []
   },
   "outputs": [],
   "source": [
    "model = LogisticRegression(max_iter=1000)"
   ]
  },
  {
   "cell_type": "code",
   "execution_count": 26,
   "id": "5f79a1fe",
   "metadata": {
    "execution": {
     "iopub.execute_input": "2022-09-27T06:29:21.316425Z",
     "iopub.status.busy": "2022-09-27T06:29:21.315769Z",
     "iopub.status.idle": "2022-09-27T06:29:21.338440Z",
     "shell.execute_reply": "2022-09-27T06:29:21.337158Z"
    },
    "papermill": {
     "duration": 0.041031,
     "end_time": "2022-09-27T06:29:21.341258",
     "exception": false,
     "start_time": "2022-09-27T06:29:21.300227",
     "status": "completed"
    },
    "tags": []
   },
   "outputs": [],
   "source": [
    "model = model.fit(x_train,y_train.values.ravel())"
   ]
  },
  {
   "cell_type": "code",
   "execution_count": 27,
   "id": "d361d327",
   "metadata": {
    "execution": {
     "iopub.execute_input": "2022-09-27T06:29:21.371588Z",
     "iopub.status.busy": "2022-09-27T06:29:21.370512Z",
     "iopub.status.idle": "2022-09-27T06:29:21.377935Z",
     "shell.execute_reply": "2022-09-27T06:29:21.376834Z"
    },
    "papermill": {
     "duration": 0.024824,
     "end_time": "2022-09-27T06:29:21.380086",
     "exception": false,
     "start_time": "2022-09-27T06:29:21.355262",
     "status": "completed"
    },
    "tags": []
   },
   "outputs": [
    {
     "data": {
      "text/plain": [
       "array([-3.86958826])"
      ]
     },
     "execution_count": 27,
     "metadata": {},
     "output_type": "execute_result"
    }
   ],
   "source": [
    "model.intercept_"
   ]
  },
  {
   "cell_type": "code",
   "execution_count": 28,
   "id": "b5408222",
   "metadata": {
    "execution": {
     "iopub.execute_input": "2022-09-27T06:29:21.410364Z",
     "iopub.status.busy": "2022-09-27T06:29:21.409383Z",
     "iopub.status.idle": "2022-09-27T06:29:21.416455Z",
     "shell.execute_reply": "2022-09-27T06:29:21.415481Z"
    },
    "papermill": {
     "duration": 0.02453,
     "end_time": "2022-09-27T06:29:21.418567",
     "exception": false,
     "start_time": "2022-09-27T06:29:21.394037",
     "status": "completed"
    },
    "tags": []
   },
   "outputs": [
    {
     "data": {
      "text/plain": [
       "array([[-2.5424788 ,  1.75396674, -1.46510409,  2.32610718,  4.84223153]])"
      ]
     },
     "execution_count": 28,
     "metadata": {},
     "output_type": "execute_result"
    }
   ],
   "source": [
    "model.coef_"
   ]
  },
  {
   "cell_type": "markdown",
   "id": "727048e5",
   "metadata": {
    "papermill": {
     "duration": 0.013685,
     "end_time": "2022-09-27T06:29:21.446340",
     "exception": false,
     "start_time": "2022-09-27T06:29:21.432655",
     "status": "completed"
    },
    "tags": []
   },
   "source": [
    "# Evaluate Model\n",
    "\n",
    "The model shows quite good results being able to correctly predict wine quality "
   ]
  },
  {
   "cell_type": "code",
   "execution_count": 29,
   "id": "828672c2",
   "metadata": {
    "execution": {
     "iopub.execute_input": "2022-09-27T06:29:21.478859Z",
     "iopub.status.busy": "2022-09-27T06:29:21.478316Z",
     "iopub.status.idle": "2022-09-27T06:29:21.488405Z",
     "shell.execute_reply": "2022-09-27T06:29:21.487296Z"
    },
    "papermill": {
     "duration": 0.029974,
     "end_time": "2022-09-27T06:29:21.490559",
     "exception": false,
     "start_time": "2022-09-27T06:29:21.460585",
     "status": "completed"
    },
    "tags": []
   },
   "outputs": [
    {
     "data": {
      "text/plain": [
       "0.87"
      ]
     },
     "execution_count": 29,
     "metadata": {},
     "output_type": "execute_result"
    }
   ],
   "source": [
    "model.score(x_test, y_test)"
   ]
  },
  {
   "cell_type": "code",
   "execution_count": 30,
   "id": "f146481a",
   "metadata": {
    "execution": {
     "iopub.execute_input": "2022-09-27T06:29:21.521009Z",
     "iopub.status.busy": "2022-09-27T06:29:21.520205Z",
     "iopub.status.idle": "2022-09-27T06:29:21.527365Z",
     "shell.execute_reply": "2022-09-27T06:29:21.526316Z"
    },
    "papermill": {
     "duration": 0.025146,
     "end_time": "2022-09-27T06:29:21.529800",
     "exception": false,
     "start_time": "2022-09-27T06:29:21.504654",
     "status": "completed"
    },
    "tags": []
   },
   "outputs": [],
   "source": [
    "y_pred = model.predict(x_test)"
   ]
  },
  {
   "cell_type": "code",
   "execution_count": 31,
   "id": "4244602a",
   "metadata": {
    "execution": {
     "iopub.execute_input": "2022-09-27T06:29:21.560484Z",
     "iopub.status.busy": "2022-09-27T06:29:21.559306Z",
     "iopub.status.idle": "2022-09-27T06:29:21.570847Z",
     "shell.execute_reply": "2022-09-27T06:29:21.569449Z"
    },
    "papermill": {
     "duration": 0.029652,
     "end_time": "2022-09-27T06:29:21.573644",
     "exception": false,
     "start_time": "2022-09-27T06:29:21.543992",
     "status": "completed"
    },
    "tags": []
   },
   "outputs": [
    {
     "name": "stdout",
     "output_type": "stream",
     "text": [
      "              precision    recall  f1-score   support\n",
      "\n",
      "           0       0.88      0.99      0.93       345\n",
      "           1       0.62      0.15      0.24        55\n",
      "\n",
      "    accuracy                           0.87       400\n",
      "   macro avg       0.75      0.57      0.58       400\n",
      "weighted avg       0.84      0.87      0.83       400\n",
      "\n"
     ]
    }
   ],
   "source": [
    "print(classification_report(y_test, y_pred))"
   ]
  },
  {
   "cell_type": "markdown",
   "id": "341cfab3",
   "metadata": {
    "papermill": {
     "duration": 0.013883,
     "end_time": "2022-09-27T06:29:21.602564",
     "exception": false,
     "start_time": "2022-09-27T06:29:21.588681",
     "status": "completed"
    },
    "tags": []
   },
   "source": [
    "# Bonus Round - Performance Tuning\n",
    "\n",
    "Typically, you will only tune the hyperparameters which have the biggest impact. The default settings are usually fine.\n",
    "\n",
    "\n",
    "In this example I tried tuning the 'C' hyperparameter. This parameter controls how closely the model fits to the training data. It is what is known as a regulisation parameter. Regularisation is a technique with is used to reduce overfitting (where data fits training data too closely) of data by discouraging an overly complex model in some way.\n",
    "\n",
    "A low 'C' value increases fitting and is more likely to overfit. A high 'C' value decreases fitting and is more likely to underfit.\n",
    "\n",
    "You can see below that the recommended parameter for this is where C is equal to one. The default value for the logistical regression is also 1 so no changes are required. \n"
   ]
  },
  {
   "cell_type": "code",
   "execution_count": 32,
   "id": "9f64c777",
   "metadata": {
    "execution": {
     "iopub.execute_input": "2022-09-27T06:29:21.632853Z",
     "iopub.status.busy": "2022-09-27T06:29:21.632397Z",
     "iopub.status.idle": "2022-09-27T06:29:21.639314Z",
     "shell.execute_reply": "2022-09-27T06:29:21.638087Z"
    },
    "papermill": {
     "duration": 0.02478,
     "end_time": "2022-09-27T06:29:21.641629",
     "exception": false,
     "start_time": "2022-09-27T06:29:21.616849",
     "status": "completed"
    },
    "tags": []
   },
   "outputs": [],
   "source": [
    "def print_results(results):\n",
    "    print('BEST PARAMS: {}\\n'.format(results.best_params_))\n",
    "    \n",
    "    means = results.cv_results_['mean_test_score']\n",
    "    stds = results.cv_results_['std_test_score']\n",
    "    for mean,std,params in zip(means,stds,results.cv_results_['params']):\n",
    "        print('{} (+/-{}) for {}'.format(round(mean,3),round(std * 2,3),params))"
   ]
  },
  {
   "cell_type": "code",
   "execution_count": 33,
   "id": "8b05b62e",
   "metadata": {
    "execution": {
     "iopub.execute_input": "2022-09-27T06:29:21.672540Z",
     "iopub.status.busy": "2022-09-27T06:29:21.671543Z",
     "iopub.status.idle": "2022-09-27T06:29:22.075251Z",
     "shell.execute_reply": "2022-09-27T06:29:22.074049Z"
    },
    "papermill": {
     "duration": 0.421851,
     "end_time": "2022-09-27T06:29:22.077956",
     "exception": false,
     "start_time": "2022-09-27T06:29:21.656105",
     "status": "completed"
    },
    "tags": []
   },
   "outputs": [
    {
     "data": {
      "text/plain": [
       "GridSearchCV(cv=5, estimator=LogisticRegression(),\n",
       "             param_grid={'C': [0.001, 0.08, 0.9, 1, 1.1, 10, 15]})"
      ]
     },
     "execution_count": 33,
     "metadata": {},
     "output_type": "execute_result"
    }
   ],
   "source": [
    "model_evaluation = LogisticRegression()\n",
    "parameters = {\n",
    "    'C': [0.001, 0.08,0.9,1,1.1,10,15]\n",
    "}\n",
    "\n",
    "cv = GridSearchCV(model_evaluation,parameters,cv=5)\n",
    "cv.fit(x_train,y_train.values.ravel())\n",
    "\n"
   ]
  },
  {
   "cell_type": "code",
   "execution_count": 34,
   "id": "8a0f8928",
   "metadata": {
    "execution": {
     "iopub.execute_input": "2022-09-27T06:29:22.109661Z",
     "iopub.status.busy": "2022-09-27T06:29:22.109243Z",
     "iopub.status.idle": "2022-09-27T06:29:22.115254Z",
     "shell.execute_reply": "2022-09-27T06:29:22.113871Z"
    },
    "papermill": {
     "duration": 0.025185,
     "end_time": "2022-09-27T06:29:22.117898",
     "exception": false,
     "start_time": "2022-09-27T06:29:22.092713",
     "status": "completed"
    },
    "tags": []
   },
   "outputs": [
    {
     "name": "stdout",
     "output_type": "stream",
     "text": [
      "{'C': 1}\n",
      "BEST PARAMS: {'C': 1}\n",
      "\n",
      "0.865 (+/-0.004) for {'C': 0.001}\n",
      "0.865 (+/-0.004) for {'C': 0.08}\n",
      "0.871 (+/-0.016) for {'C': 0.9}\n",
      "0.872 (+/-0.013) for {'C': 1}\n",
      "0.872 (+/-0.011) for {'C': 1.1}\n",
      "0.869 (+/-0.017) for {'C': 10}\n",
      "0.87 (+/-0.018) for {'C': 15}\n"
     ]
    }
   ],
   "source": [
    "# print best parameter after tuning \n",
    "print(cv.best_params_)\n",
    "#grid_predictions = grid.predict(X_test) \n",
    "print_results(cv)"
   ]
  },
  {
   "cell_type": "code",
   "execution_count": 35,
   "id": "d0ad3972",
   "metadata": {
    "execution": {
     "iopub.execute_input": "2022-09-27T06:29:22.149684Z",
     "iopub.status.busy": "2022-09-27T06:29:22.148506Z",
     "iopub.status.idle": "2022-09-27T06:29:22.170071Z",
     "shell.execute_reply": "2022-09-27T06:29:22.168909Z"
    },
    "papermill": {
     "duration": 0.039808,
     "end_time": "2022-09-27T06:29:22.172450",
     "exception": false,
     "start_time": "2022-09-27T06:29:22.132642",
     "status": "completed"
    },
    "tags": []
   },
   "outputs": [
    {
     "data": {
      "text/plain": [
       "0.8775"
      ]
     },
     "execution_count": 35,
     "metadata": {},
     "output_type": "execute_result"
    }
   ],
   "source": [
    "linear_model_tuned = LogisticRegression(C = 10).fit(x_train,y_train.values.ravel())\n",
    "linear_model_tuned.score(x_test, y_test)"
   ]
  },
  {
   "cell_type": "code",
   "execution_count": 36,
   "id": "2efe6fcb",
   "metadata": {
    "execution": {
     "iopub.execute_input": "2022-09-27T06:29:22.203220Z",
     "iopub.status.busy": "2022-09-27T06:29:22.202430Z",
     "iopub.status.idle": "2022-09-27T06:29:22.209058Z",
     "shell.execute_reply": "2022-09-27T06:29:22.208261Z"
    },
    "papermill": {
     "duration": 0.024192,
     "end_time": "2022-09-27T06:29:22.211015",
     "exception": false,
     "start_time": "2022-09-27T06:29:22.186823",
     "status": "completed"
    },
    "tags": []
   },
   "outputs": [
    {
     "data": {
      "text/plain": [
       "LogisticRegression(C=1)"
      ]
     },
     "execution_count": 36,
     "metadata": {},
     "output_type": "execute_result"
    }
   ],
   "source": [
    "cv.best_estimator_"
   ]
  }
 ],
 "metadata": {
  "kernelspec": {
   "display_name": "Python 3",
   "language": "python",
   "name": "python3"
  },
  "language_info": {
   "codemirror_mode": {
    "name": "ipython",
    "version": 3
   },
   "file_extension": ".py",
   "mimetype": "text/x-python",
   "name": "python",
   "nbconvert_exporter": "python",
   "pygments_lexer": "ipython3",
   "version": "3.7.12"
  },
  "papermill": {
   "default_parameters": {},
   "duration": 16.180084,
   "end_time": "2022-09-27T06:29:23.047846",
   "environment_variables": {},
   "exception": null,
   "input_path": "__notebook__.ipynb",
   "output_path": "__notebook__.ipynb",
   "parameters": {},
   "start_time": "2022-09-27T06:29:06.867762",
   "version": "2.3.4"
  }
 },
 "nbformat": 4,
 "nbformat_minor": 5
}
